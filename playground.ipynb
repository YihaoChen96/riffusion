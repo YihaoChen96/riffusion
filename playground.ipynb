{
 "cells": [
  {
   "cell_type": "code",
   "execution_count": 1,
   "metadata": {},
   "outputs": [
    {
     "data": {
      "text/plain": [
       "True"
      ]
     },
     "execution_count": 1,
     "metadata": {},
     "output_type": "execute_result"
    }
   ],
   "source": [
    "import torch\n",
    "# from diffusers import DiffusionPipeline\n",
    "\n",
    "device = torch.device('cuda' if torch.cuda.is_available() else 'cpu')\n",
    "torch.cuda.is_available()"
   ]
  },
  {
   "cell_type": "code",
   "execution_count": 2,
   "metadata": {},
   "outputs": [],
   "source": [
    "# pipe = DiffusionPipeline.from_pretrained(\"Hyeon2/riffusion-musiccaps\", torch_dtype=torch.float16).to(device)\n",
    "\n",
    "# prompt = \"a jazz solo, enegetic with syncopation\"\n",
    "# image = pipe(prompt).images[0]"
   ]
  },
  {
   "cell_type": "code",
   "execution_count": 3,
   "metadata": {},
   "outputs": [],
   "source": [
    "from riffusion.spectrogram_image_converter import SpectrogramImageConverter\n",
    "from riffusion.spectrogram_params import SpectrogramParams\n",
    "from pydub import AudioSegment\n",
    "\n",
    "params = SpectrogramParams(\n",
    "    stereo = True,\n",
    "    max_frequency=20000,\n",
    ")\n",
    "converter = SpectrogramImageConverter(params)\n",
    "\n",
    "audio_path = r\"D:\\Documents\\OctAI\\Text2Music\\downloaded_files\\electro\\2 Beers and a Good Send.mp3\"\n",
    "audio_segment = AudioSegment.from_mp3(audio_path)\n",
    "\n",
    "#5110 ms generate image of 512x512\n",
    "img = converter.spectrogram_image_from_audio(audio_segment[0:5110])"
   ]
  },
  {
   "cell_type": "code",
   "execution_count": 4,
   "metadata": {},
   "outputs": [],
   "source": [
    "def chunk_audio_by_ms(audio_segment, ms):\n",
    "    chunks = []\n",
    "    for i in range(0, len(audio_segment), ms):\n",
    "        chunks.append(audio_segment[i:i+ms])\n",
    "    return chunks\n"
   ]
  },
  {
   "cell_type": "code",
   "execution_count": 5,
   "metadata": {},
   "outputs": [],
   "source": [
    "def audio_chunks_to_images(chunks, converter):\n",
    "    images = []\n",
    "    for chunk in chunks:\n",
    "        images.append(converter.spectrogram_image_from_audio(chunk))\n",
    "    return images"
   ]
  },
  {
   "cell_type": "code",
   "execution_count": 6,
   "metadata": {},
   "outputs": [],
   "source": [
    "import pandas as pd\n",
    "import os\n",
    "import numpy as np\n",
    "from tqdm.notebook import tqdm"
   ]
  },
  {
   "cell_type": "code",
   "execution_count": 40,
   "metadata": {},
   "outputs": [],
   "source": [
    "def get_row_by_titles(df, titles):\n",
    "    return df.loc[df[\"title\"].isin(titles)].drop_duplicates()\n",
    "\n",
    "def get_all_files_in_folder(path):\n",
    "    return [f\"{path}/{file}\" for file in os.listdir(path)]\n",
    "\n",
    "def get_title_from_path(path):\n",
    "    return \"\".join(path.split(\"/\")[-1].split(\".\", maxsplit=1))\n",
    "\n",
    "def string_list_to_list(string):\n",
    "    # transform a string of list to an actual list in python\n",
    "    replaced = string[1:-1].replace(\"'\", \"\")\n",
    "    if \",\" in replaced:\n",
    "        return replaced.split(\", \")\n",
    "    else:\n",
    "        return [replaced]"
   ]
  },
  {
   "cell_type": "code",
   "execution_count": 41,
   "metadata": {},
   "outputs": [],
   "source": [
    "audio_folder = r\"D:\\Documents\\OctAI\\Text2Music\\downloaded_files\\electro\"\n",
    "epi_csv = r\"D:\\Documents\\OctAI\\Text2Music\\epidemic_music.csv\"\n",
    "\n",
    "df = pd.read_csv(epi_csv)"
   ]
  },
  {
   "cell_type": "code",
   "execution_count": 42,
   "metadata": {},
   "outputs": [],
   "source": [
    "titles = [get_title_from_path(path) for path in get_all_files_in_folder(audio_folder)]"
   ]
  },
  {
   "cell_type": "code",
   "execution_count": 43,
   "metadata": {},
   "outputs": [],
   "source": [
    "filtered_df = get_row_by_titles(df, titles)\n",
    "\n",
    "filtered_df.genres = filtered_df.genres.apply(string_list_to_list)\n",
    "filtered_df.metadataTags = filtered_df.metadataTags.apply(string_list_to_list)\n",
    "filtered_df.moods = filtered_df.moods.apply(string_list_to_list)"
   ]
  },
  {
   "cell_type": "code",
   "execution_count": 44,
   "metadata": {},
   "outputs": [],
   "source": [
    "def generate_pseudo_label(df):\n",
    "    return \",\".join(df[\"genres\"]) + \",\" + \",\".join(df[\"metadataTags\"]) + \",\" + \",\".join(df[\"moods\"])"
   ]
  },
  {
   "cell_type": "code",
   "execution_count": 45,
   "metadata": {},
   "outputs": [],
   "source": [
    "filtered_df[\"pseudo_label\"] = filtered_df.apply(generate_pseudo_label, axis=1)"
   ]
  },
  {
   "cell_type": "code",
   "execution_count": 46,
   "metadata": {},
   "outputs": [
    {
     "data": {
      "text/html": [
       "<div>\n",
       "<style scoped>\n",
       "    .dataframe tbody tr th:only-of-type {\n",
       "        vertical-align: middle;\n",
       "    }\n",
       "\n",
       "    .dataframe tbody tr th {\n",
       "        vertical-align: top;\n",
       "    }\n",
       "\n",
       "    .dataframe thead th {\n",
       "        text-align: right;\n",
       "    }\n",
       "</style>\n",
       "<table border=\"1\" class=\"dataframe\">\n",
       "  <thead>\n",
       "    <tr style=\"text-align: right;\">\n",
       "      <th></th>\n",
       "      <th>title</th>\n",
       "      <th>id</th>\n",
       "      <th>added</th>\n",
       "      <th>length</th>\n",
       "      <th>bpm</th>\n",
       "      <th>isSfx</th>\n",
       "      <th>hasVocals</th>\n",
       "      <th>energyLevel</th>\n",
       "      <th>genres</th>\n",
       "      <th>url</th>\n",
       "      <th>metadataTags</th>\n",
       "      <th>moods</th>\n",
       "      <th>pseudo_label</th>\n",
       "    </tr>\n",
       "  </thead>\n",
       "  <tbody>\n",
       "    <tr>\n",
       "      <th>25894</th>\n",
       "      <td>Next</td>\n",
       "      <td>22373.0</td>\n",
       "      <td>2012-06-25T09:43:07</td>\n",
       "      <td>134.0</td>\n",
       "      <td>85.0</td>\n",
       "      <td>0.0</td>\n",
       "      <td>0.0</td>\n",
       "      <td>medium</td>\n",
       "      <td>[beautiful, drama]</td>\n",
       "      <td>https://dkihjuum4jcjr.cloudfront.net/ES_ITUNES...</td>\n",
       "      <td>[road, waiting, family, rain, morning, family,...</td>\n",
       "      <td>[happy, romantic]</td>\n",
       "      <td>beautiful,drama,road,waiting,family,rain,morni...</td>\n",
       "    </tr>\n",
       "  </tbody>\n",
       "</table>\n",
       "</div>"
      ],
      "text/plain": [
       "      title       id                added  length   bpm  isSfx  hasVocals  \\\n",
       "25894  Next  22373.0  2012-06-25T09:43:07   134.0  85.0    0.0        0.0   \n",
       "\n",
       "      energyLevel              genres  \\\n",
       "25894      medium  [beautiful, drama]   \n",
       "\n",
       "                                                     url  \\\n",
       "25894  https://dkihjuum4jcjr.cloudfront.net/ES_ITUNES...   \n",
       "\n",
       "                                            metadataTags              moods  \\\n",
       "25894  [road, waiting, family, rain, morning, family,...  [happy, romantic]   \n",
       "\n",
       "                                            pseudo_label  \n",
       "25894  beautiful,drama,road,waiting,family,rain,morni...  "
      ]
     },
     "execution_count": 46,
     "metadata": {},
     "output_type": "execute_result"
    }
   ],
   "source": [
    "filtered_df"
   ]
  },
  {
   "cell_type": "code",
   "execution_count": 34,
   "metadata": {},
   "outputs": [
    {
     "data": {
      "application/vnd.jupyter.widget-view+json": {
       "model_id": "64820682dcfb4e5898b7e9efb28d3bd0",
       "version_major": 2,
       "version_minor": 0
      },
      "text/plain": [
       "  0%|          | 0/1168 [00:00<?, ?it/s]"
      ]
     },
     "metadata": {},
     "output_type": "display_data"
    },
    {
     "ename": "FileNotFoundError",
     "evalue": "[Errno 2] No such file or directory: 'D:\\\\Documents\\\\OctAI\\\\Text2Music\\\\downloaded_files\\\\electro\\\\Dot.mp3'",
     "output_type": "error",
     "traceback": [
      "\u001b[1;31m---------------------------------------------------------------------------\u001b[0m",
      "\u001b[1;31mFileNotFoundError\u001b[0m                         Traceback (most recent call last)",
      "Cell \u001b[1;32mIn[34], line 4\u001b[0m\n\u001b[0;32m      2\u001b[0m \u001b[39mfor\u001b[39;00m tlt \u001b[39min\u001b[39;00m tqdm(titles):\n\u001b[0;32m      3\u001b[0m     audio_path \u001b[39m=\u001b[39m os\u001b[39m.\u001b[39mpath\u001b[39m.\u001b[39mjoin(audio_folder, tlt \u001b[39m+\u001b[39m \u001b[39m\"\u001b[39m\u001b[39m.mp3\u001b[39m\u001b[39m\"\u001b[39m)\n\u001b[1;32m----> 4\u001b[0m     audio_segment \u001b[39m=\u001b[39m AudioSegment\u001b[39m.\u001b[39;49mfrom_mp3(audio_path)\n\u001b[0;32m      5\u001b[0m     chunks \u001b[39m=\u001b[39m chunk_audio_by_ms(audio_segment, \u001b[39m5110\u001b[39m)\n\u001b[0;32m      6\u001b[0m     spectrograms \u001b[39m=\u001b[39m audio_chunks_to_images(chunks[:\u001b[39m-\u001b[39m\u001b[39m1\u001b[39m], converter)  \u001b[39m# last chunk is too short\u001b[39;00m\n",
      "File \u001b[1;32md:\\Anaconda\\lib\\site-packages\\pydub\\audio_segment.py:796\u001b[0m, in \u001b[0;36mAudioSegment.from_mp3\u001b[1;34m(cls, file, parameters)\u001b[0m\n\u001b[0;32m    794\u001b[0m \u001b[39m@classmethod\u001b[39m\n\u001b[0;32m    795\u001b[0m \u001b[39mdef\u001b[39;00m \u001b[39mfrom_mp3\u001b[39m(\u001b[39mcls\u001b[39m, file, parameters\u001b[39m=\u001b[39m\u001b[39mNone\u001b[39;00m):\n\u001b[1;32m--> 796\u001b[0m     \u001b[39mreturn\u001b[39;00m \u001b[39mcls\u001b[39;49m\u001b[39m.\u001b[39;49mfrom_file(file, \u001b[39m'\u001b[39;49m\u001b[39mmp3\u001b[39;49m\u001b[39m'\u001b[39;49m, parameters\u001b[39m=\u001b[39;49mparameters)\n",
      "File \u001b[1;32md:\\Anaconda\\lib\\site-packages\\pydub\\audio_segment.py:651\u001b[0m, in \u001b[0;36mAudioSegment.from_file\u001b[1;34m(cls, file, format, codec, parameters, start_second, duration, **kwargs)\u001b[0m\n\u001b[0;32m    649\u001b[0m \u001b[39mexcept\u001b[39;00m \u001b[39mTypeError\u001b[39;00m:\n\u001b[0;32m    650\u001b[0m     filename \u001b[39m=\u001b[39m \u001b[39mNone\u001b[39;00m\n\u001b[1;32m--> 651\u001b[0m file, close_file \u001b[39m=\u001b[39m _fd_or_path_or_tempfile(file, \u001b[39m'\u001b[39;49m\u001b[39mrb\u001b[39;49m\u001b[39m'\u001b[39;49m, tempfile\u001b[39m=\u001b[39;49m\u001b[39mFalse\u001b[39;49;00m)\n\u001b[0;32m    653\u001b[0m \u001b[39mif\u001b[39;00m \u001b[39mformat\u001b[39m:\n\u001b[0;32m    654\u001b[0m     \u001b[39mformat\u001b[39m \u001b[39m=\u001b[39m \u001b[39mformat\u001b[39m\u001b[39m.\u001b[39mlower()\n",
      "File \u001b[1;32md:\\Anaconda\\lib\\site-packages\\pydub\\utils.py:60\u001b[0m, in \u001b[0;36m_fd_or_path_or_tempfile\u001b[1;34m(fd, mode, tempfile)\u001b[0m\n\u001b[0;32m     57\u001b[0m     close_fd \u001b[39m=\u001b[39m \u001b[39mTrue\u001b[39;00m\n\u001b[0;32m     59\u001b[0m \u001b[39mif\u001b[39;00m \u001b[39misinstance\u001b[39m(fd, basestring):\n\u001b[1;32m---> 60\u001b[0m     fd \u001b[39m=\u001b[39m \u001b[39mopen\u001b[39;49m(fd, mode\u001b[39m=\u001b[39;49mmode)\n\u001b[0;32m     61\u001b[0m     close_fd \u001b[39m=\u001b[39m \u001b[39mTrue\u001b[39;00m\n\u001b[0;32m     63\u001b[0m \u001b[39mtry\u001b[39;00m:\n",
      "\u001b[1;31mFileNotFoundError\u001b[0m: [Errno 2] No such file or directory: 'D:\\\\Documents\\\\OctAI\\\\Text2Music\\\\downloaded_files\\\\electro\\\\Dot.mp3'"
     ]
    }
   ],
   "source": [
    "data = []\n",
    "for tlt in tqdm(titles):\n",
    "    try:\n",
    "        audio_path = os.path.join(audio_folder, tlt + \".mp3\")\n",
    "        audio_segment = AudioSegment.from_mp3(audio_path)\n",
    "        chunks = chunk_audio_by_ms(audio_segment, 5110)\n",
    "        spectrograms = audio_chunks_to_images(chunks[:-1], converter)  # last chunk is too short\n",
    "        # print(spectrograms)\n",
    "        row = filtered_df.loc[filtered_df[\"title\"] == tlt]\n",
    "        pseudo_label = row[\"pseudo_label\"].values[0]\n",
    "        song_title = row[\"title\"].values[0]\n",
    "\n",
    "        data += [(song_title, pseudo_label, spectro) for spectro in spectrograms]\n",
    "    except Exception as e:\n",
    "        print()"
   ]
  },
  {
   "cell_type": "code",
   "execution_count": 31,
   "metadata": {},
   "outputs": [
    {
     "data": {
      "text/plain": [
       "'electro,traditional-jazz,bouncy,electronic,sophisticated,scat,electro swing,jive,bar,cocktails,swinging,sexy,dancing,hip,fashion,contemporary,luxurious ,manouche,lounge,busy-frantic'"
      ]
     },
     "execution_count": 31,
     "metadata": {},
     "output_type": "execute_result"
    }
   ],
   "source": [
    "data[0][1]"
   ]
  },
  {
   "cell_type": "code",
   "execution_count": 39,
   "metadata": {},
   "outputs": [
    {
     "data": {
      "text/plain": [
       "'dot.'"
      ]
     },
     "execution_count": 39,
     "metadata": {},
     "output_type": "execute_result"
    }
   ],
   "source": [
    "\"\".join(\"dot..\".split(\".\", maxsplit=1))"
   ]
  },
  {
   "cell_type": "code",
   "execution_count": null,
   "metadata": {},
   "outputs": [],
   "source": []
  }
 ],
 "metadata": {
  "kernelspec": {
   "display_name": "riffusion",
   "language": "python",
   "name": "python3"
  },
  "language_info": {
   "codemirror_mode": {
    "name": "ipython",
    "version": 3
   },
   "file_extension": ".py",
   "mimetype": "text/x-python",
   "name": "python",
   "nbconvert_exporter": "python",
   "pygments_lexer": "ipython3",
   "version": "3.10.11"
  },
  "orig_nbformat": 4
 },
 "nbformat": 4,
 "nbformat_minor": 2
}
